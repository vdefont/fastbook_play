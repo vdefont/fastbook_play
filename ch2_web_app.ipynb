{
 "cells": [
  {
   "cell_type": "code",
   "execution_count": 2,
   "metadata": {},
   "outputs": [],
   "source": [
    "import fastbook\n",
    "from fastbook import *\n",
    "from ipywidgets import *"
   ]
  },
  {
   "cell_type": "code",
   "execution_count": 6,
   "metadata": {},
   "outputs": [],
   "source": [
    "# !pip install voila\n",
    "# !jupyter serverextension enable voila --sys-prefix"
   ]
  },
  {
   "cell_type": "code",
   "execution_count": 6,
   "metadata": {},
   "outputs": [
    {
     "data": {
      "application/vnd.jupyter.widget-view+json": {
       "model_id": "b0f6a5f2fcf84bca92fdf0925fbf8a4a",
       "version_major": 2,
       "version_minor": 0
      },
      "text/plain": [
       "VBox(children=(Label(value='Upload an animal!'), FileUpload(value={}, description='Upload'), Output(), Button(…"
      ]
     },
     "metadata": {},
     "output_type": "display_data"
    },
    {
     "data": {
      "text/html": [],
      "text/plain": [
       "<IPython.core.display.HTML object>"
      ]
     },
     "metadata": {},
     "output_type": "display_data"
    }
   ],
   "source": [
    "def ret_all_imgs(_):\n",
    "    return all_imgs\n",
    "\n",
    "def get_y(path):\n",
    "    return str(path).split(\"/\")[1]\n",
    "\n",
    "learn_inf = load_learner('export.pkl')\n",
    "\n",
    "btn_upload = widgets.FileUpload()\n",
    "out_pl = widgets.Output()\n",
    "btn_classify = widgets.Button(description='Classify!')\n",
    "lbl_pred = widgets.Label()\n",
    "lbl_prob = widgets.Label()\n",
    "\n",
    "def on_click_classify(_change):\n",
    "    # Display image\n",
    "    img = PILImage.create(btn_upload.data[-1])\n",
    "    out_pl.clear_output()\n",
    "    with out_pl: display(img.to_thumb(128, 128))\n",
    "    out_pl\n",
    "    \n",
    "    # Classify\n",
    "    pred, pred_idx, probs = learn_inf.predict(img)\n",
    "    prob = int(probs[pred_idx] * 10000) / 100\n",
    "    lbl_pred.value = f\"Prediction:  {pred}\"\n",
    "    lbl_prob.value = f\"Probability: {prob}%\"\n",
    "\n",
    "btn_classify.on_click(on_click_classify)\n",
    "\n",
    "VBox(\n",
    "    [\n",
    "        widgets.Label('Upload an animal!'),\n",
    "        btn_upload,\n",
    "        out_pl,\n",
    "        btn_classify,\n",
    "        lbl_pred,\n",
    "        lbl_prob,\n",
    "    ]\n",
    ")"
   ]
  },
  {
   "cell_type": "code",
   "execution_count": null,
   "metadata": {},
   "outputs": [],
   "source": []
  }
 ],
 "metadata": {
  "kernelspec": {
   "display_name": "Python 3",
   "language": "python",
   "name": "python3"
  },
  "language_info": {
   "codemirror_mode": {
    "name": "ipython",
    "version": 3
   },
   "file_extension": ".py",
   "mimetype": "text/x-python",
   "name": "python",
   "nbconvert_exporter": "python",
   "pygments_lexer": "ipython3",
   "version": "3.8.5"
  }
 },
 "nbformat": 4,
 "nbformat_minor": 4
}
